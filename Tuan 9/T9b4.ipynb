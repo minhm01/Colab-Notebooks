{
  "nbformat": 4,
  "nbformat_minor": 0,
  "metadata": {
    "colab": {
      "name": "T9b4.ipynb",
      "provenance": [],
      "authorship_tag": "ABX9TyMM1idN0RiwX4PtoJiFSfsI",
      "include_colab_link": true
    },
    "kernelspec": {
      "name": "python3",
      "display_name": "Python 3"
    }
  },
  "cells": [
    {
      "cell_type": "markdown",
      "metadata": {
        "id": "view-in-github",
        "colab_type": "text"
      },
      "source": [
        "<a href=\"https://colab.research.google.com/github/minhm01/Colab-Notebooks/blob/main/Tuan%209/T9b4.ipynb\" target=\"_parent\"><img src=\"https://colab.research.google.com/assets/colab-badge.svg\" alt=\"Open In Colab\"/></a>"
      ]
    },
    {
      "cell_type": "code",
      "metadata": {
        "id": "2BImYwm9KqaK",
        "colab": {
          "base_uri": "https://localhost:8080/",
          "height": 391
        },
        "outputId": "ba9d5a8f-4ca3-4c27-b18f-3777e48f83e6"
      },
      "source": [
        "import pandas as pd\r\n",
        "import seaborn as sns\r\n",
        "import matplotlib.pyplot as plt\r\n",
        "df = pd.read_excel('45. KQ_L1_21-11-2020.xlsx')\r\n",
        "df.head()"
      ],
      "execution_count": null,
      "outputs": [
        {
          "output_type": "execute_result",
          "data": {
            "text/html": [
              "<div>\n",
              "<style scoped>\n",
              "    .dataframe tbody tr th:only-of-type {\n",
              "        vertical-align: middle;\n",
              "    }\n",
              "\n",
              "    .dataframe tbody tr th {\n",
              "        vertical-align: top;\n",
              "    }\n",
              "\n",
              "    .dataframe thead th {\n",
              "        text-align: right;\n",
              "    }\n",
              "</style>\n",
              "<table border=\"1\" class=\"dataframe\">\n",
              "  <thead>\n",
              "    <tr style=\"text-align: right;\">\n",
              "      <th></th>\n",
              "      <th>STT</th>\n",
              "      <th>Mã SV</th>\n",
              "      <th>Họ</th>\n",
              "      <th>Tên</th>\n",
              "      <th>Ngày Sinh</th>\n",
              "      <th>Nơi Sinh</th>\n",
              "      <th>Win_Word</th>\n",
              "      <th>Excel</th>\n",
              "      <th>Powerpoint</th>\n",
              "      <th>Lý Thuyết</th>\n",
              "      <th>Thực Hành</th>\n",
              "      <th>Xếp loại</th>\n",
              "      <th>G. Chú</th>\n",
              "    </tr>\n",
              "  </thead>\n",
              "  <tbody>\n",
              "    <tr>\n",
              "      <th>0</th>\n",
              "      <td>1</td>\n",
              "      <td>15110181</td>\n",
              "      <td>Nguyễn Cao Thiên</td>\n",
              "      <td>An</td>\n",
              "      <td>1997-06-13 00:00:00</td>\n",
              "      <td>Quảng Ngãi</td>\n",
              "      <td>3.0</td>\n",
              "      <td>0.0</td>\n",
              "      <td>4.0</td>\n",
              "      <td>2.5</td>\n",
              "      <td>2.0</td>\n",
              "      <td>Không đạt</td>\n",
              "      <td>CB135,136</td>\n",
              "    </tr>\n",
              "    <tr>\n",
              "      <th>1</th>\n",
              "      <td>2</td>\n",
              "      <td>17027851</td>\n",
              "      <td>Nguyễn Thị Thúy</td>\n",
              "      <td>An</td>\n",
              "      <td>1999-04-30 00:00:00</td>\n",
              "      <td>Tây Ninh</td>\n",
              "      <td>0.0</td>\n",
              "      <td>0.0</td>\n",
              "      <td>0.0</td>\n",
              "      <td>0.0</td>\n",
              "      <td>0.0</td>\n",
              "      <td>Không đạt</td>\n",
              "      <td>CB135,136</td>\n",
              "    </tr>\n",
              "    <tr>\n",
              "      <th>2</th>\n",
              "      <td>3</td>\n",
              "      <td>17081551</td>\n",
              "      <td>Nguyễn Thị Xuân</td>\n",
              "      <td>An</td>\n",
              "      <td>1999-01-01 00:00:00</td>\n",
              "      <td>TP. HCM</td>\n",
              "      <td>3.5</td>\n",
              "      <td>7.0</td>\n",
              "      <td>7.0</td>\n",
              "      <td>6.0</td>\n",
              "      <td>5.6</td>\n",
              "      <td>Đạt</td>\n",
              "      <td>CB134</td>\n",
              "    </tr>\n",
              "    <tr>\n",
              "      <th>3</th>\n",
              "      <td>4</td>\n",
              "      <td>18019591</td>\n",
              "      <td>Thái Phúc</td>\n",
              "      <td>An</td>\n",
              "      <td>2000-03-29 00:00:00</td>\n",
              "      <td>Tiền Giang</td>\n",
              "      <td>3.0</td>\n",
              "      <td>0.0</td>\n",
              "      <td>0.0</td>\n",
              "      <td>5.0</td>\n",
              "      <td>1.2</td>\n",
              "      <td>Không đạt</td>\n",
              "      <td>CB135,136</td>\n",
              "    </tr>\n",
              "    <tr>\n",
              "      <th>4</th>\n",
              "      <td>5</td>\n",
              "      <td>18010291</td>\n",
              "      <td>Trần Khắc</td>\n",
              "      <td>An</td>\n",
              "      <td>2000-03-16 00:00:00</td>\n",
              "      <td>Long An</td>\n",
              "      <td>4.0</td>\n",
              "      <td>1.0</td>\n",
              "      <td>5.0</td>\n",
              "      <td>4.5</td>\n",
              "      <td>3.0</td>\n",
              "      <td>Không đạt</td>\n",
              "      <td>CB135,136</td>\n",
              "    </tr>\n",
              "  </tbody>\n",
              "</table>\n",
              "</div>"
            ],
            "text/plain": [
              "   STT     Mã SV                Họ  ... Thực Hành   Xếp loại     G. Chú\n",
              "0    1  15110181  Nguyễn Cao Thiên  ...       2.0  Không đạt  CB135,136\n",
              "1    2  17027851   Nguyễn Thị Thúy  ...       0.0  Không đạt  CB135,136\n",
              "2    3  17081551   Nguyễn Thị Xuân  ...       5.6        Đạt      CB134\n",
              "3    4  18019591         Thái Phúc  ...       1.2  Không đạt  CB135,136\n",
              "4    5  18010291         Trần Khắc  ...       3.0  Không đạt  CB135,136\n",
              "\n",
              "[5 rows x 13 columns]"
            ]
          },
          "metadata": {
            "tags": []
          },
          "execution_count": 14
        }
      ]
    },
    {
      "cell_type": "markdown",
      "metadata": {
        "id": "esXQvENTOMrr"
      },
      "source": [
        "Upload dataset từ excel"
      ]
    },
    {
      "cell_type": "code",
      "metadata": {
        "id": "bfU5FbLgLqiL",
        "colab": {
          "base_uri": "https://localhost:8080/"
        },
        "outputId": "93a3cbe6-fb53-4ee6-96ec-65b01654697b"
      },
      "source": [
        "df.info()"
      ],
      "execution_count": null,
      "outputs": [
        {
          "output_type": "stream",
          "text": [
            "<class 'pandas.core.frame.DataFrame'>\n",
            "RangeIndex: 594 entries, 0 to 593\n",
            "Data columns (total 13 columns):\n",
            " #   Column      Non-Null Count  Dtype  \n",
            "---  ------      --------------  -----  \n",
            " 0   STT         594 non-null    int64  \n",
            " 1   Mã SV       594 non-null    int64  \n",
            " 2   Họ          594 non-null    object \n",
            " 3   Tên         594 non-null    object \n",
            " 4   Ngày Sinh   576 non-null    object \n",
            " 5   Nơi Sinh    576 non-null    object \n",
            " 6   Win_Word    594 non-null    float64\n",
            " 7   Excel       594 non-null    float64\n",
            " 8   Powerpoint  594 non-null    float64\n",
            " 9   Lý Thuyết   594 non-null    float64\n",
            " 10  Thực Hành   594 non-null    float64\n",
            " 11  Xếp loại    594 non-null    object \n",
            " 12  G. Chú      594 non-null    object \n",
            "dtypes: float64(5), int64(2), object(6)\n",
            "memory usage: 60.5+ KB\n"
          ],
          "name": "stdout"
        }
      ]
    },
    {
      "cell_type": "markdown",
      "metadata": {
        "id": "mpnT3kWrOU6d"
      },
      "source": [
        "Xem kiểu dữ liệu"
      ]
    },
    {
      "cell_type": "code",
      "metadata": {
        "colab": {
          "base_uri": "https://localhost:8080/"
        },
        "id": "3uRirVvizTYK",
        "outputId": "89bf1fe7-4850-44a9-a1a5-56be49aa4a1a"
      },
      "source": [
        "df.isnull().sum()"
      ],
      "execution_count": null,
      "outputs": [
        {
          "output_type": "execute_result",
          "data": {
            "text/plain": [
              "STT           0\n",
              "Mã SV         0\n",
              "Họ            0\n",
              "Tên           0\n",
              "Ngày Sinh     0\n",
              "Nơi Sinh      0\n",
              "Win_Word      0\n",
              "Excel         0\n",
              "Powerpoint    0\n",
              "Lý Thuyết     0\n",
              "Thực Hành     0\n",
              "Xếp loại      0\n",
              "G. Chú        0\n",
              "dtype: int64"
            ]
          },
          "metadata": {
            "tags": []
          },
          "execution_count": 83
        }
      ]
    },
    {
      "cell_type": "markdown",
      "metadata": {
        "id": "dyLFbFqJOaON"
      },
      "source": [
        "Kiểm tra giá trị bị thiếu"
      ]
    },
    {
      "cell_type": "code",
      "metadata": {
        "id": "-9yMUSLW6La4"
      },
      "source": [
        "df['Nơi Sinh'].fillna(df['Nơi Sinh'].value_counts().idxmax(), inplace=True)\r\n",
        "df['Ngày Sinh'].fillna('2000/1/1', inplace=True)"
      ],
      "execution_count": null,
      "outputs": []
    },
    {
      "cell_type": "markdown",
      "metadata": {
        "id": "bz37AWrmOnDH"
      },
      "source": [
        "Bổ sung các giá trị bị thiếu"
      ]
    },
    {
      "cell_type": "code",
      "metadata": {
        "colab": {
          "base_uri": "https://localhost:8080/",
          "height": 299
        },
        "id": "ii0w21FD91BN",
        "outputId": "c6940c23-751c-4101-b094-d5afadebd465"
      },
      "source": [
        "sns.countplot(y=df['Nơi Sinh'])"
      ],
      "execution_count": null,
      "outputs": [
        {
          "output_type": "execute_result",
          "data": {
            "text/plain": [
              "<matplotlib.axes._subplots.AxesSubplot at 0x7f5bbb984908>"
            ]
          },
          "metadata": {
            "tags": []
          },
          "execution_count": 53
        },
        {
          "output_type": "display_data",
          "data": {
            "image/png": "[encoded data removed]",
            "text/plain": [
              "<Figure size 432x288 with 1 Axes>"
            ]
          },
          "metadata": {
            "tags": [],
            "needs_background": "light"
          }
        }
      ]
    },
    {
      "cell_type": "markdown",
      "metadata": {
        "id": "TXxEc9qJOvBs"
      },
      "source": [
        "Biểu diễn cột Nơi sinh"
      ]
    },
    {
      "cell_type": "code",
      "metadata": {
        "id": "cIiIFBhycAO6",
        "colab": {
          "base_uri": "https://localhost:8080/",
          "height": 352
        },
        "outputId": "4f8b2912-a44f-4542-f1ef-e8e6c7ad5291"
      },
      "source": [
        "sns.countplot(df['Xếp loại'])"
      ],
      "execution_count": null,
      "outputs": [
        {
          "output_type": "stream",
          "text": [
            "/usr/local/lib/python3.6/dist-packages/seaborn/_decorators.py:43: FutureWarning: Pass the following variable as a keyword arg: x. From version 0.12, the only valid positional argument will be `data`, and passing other arguments without an explicit keyword will result in an error or misinterpretation.\n",
            "  FutureWarning\n"
          ],
          "name": "stderr"
        },
        {
          "output_type": "execute_result",
          "data": {
            "text/plain": [
              "<matplotlib.axes._subplots.AxesSubplot at 0x7f5bbc72a0b8>"
            ]
          },
          "metadata": {
            "tags": []
          },
          "execution_count": 39
        },
        {
          "output_type": "display_data",
          "data": {
            "image/png": "[encoded data removed]",
            "text/plain": [
              "<Figure size 432x288 with 1 Axes>"
            ]
          },
          "metadata": {
            "tags": [],
            "needs_background": "light"
          }
        }
      ]
    },
    {
      "cell_type": "markdown",
      "metadata": {
        "id": "qo3YWOhjO2XS"
      },
      "source": [
        "So sánh cột Xếp loại"
      ]
    },
    {
      "cell_type": "code",
      "metadata": {
        "colab": {
          "base_uri": "https://localhost:8080/",
          "height": 297
        },
        "id": "v8jwlWBUk1ZT",
        "outputId": "08bdb31e-06c3-46f3-feea-ab797d5f52ba"
      },
      "source": [
        "dm=['Win_Word','Excel','Powerpoint','Lý Thuyết','Thực Hành']\r\n",
        "df[dm].describe()"
      ],
      "execution_count": null,
      "outputs": [
        {
          "output_type": "execute_result",
          "data": {
            "text/html": [
              "<div>\n",
              "<style scoped>\n",
              "    .dataframe tbody tr th:only-of-type {\n",
              "        vertical-align: middle;\n",
              "    }\n",
              "\n",
              "    .dataframe tbody tr th {\n",
              "        vertical-align: top;\n",
              "    }\n",
              "\n",
              "    .dataframe thead th {\n",
              "        text-align: right;\n",
              "    }\n",
              "</style>\n",
              "<table border=\"1\" class=\"dataframe\">\n",
              "  <thead>\n",
              "    <tr style=\"text-align: right;\">\n",
              "      <th></th>\n",
              "      <th>Win_Word</th>\n",
              "      <th>Excel</th>\n",
              "      <th>Powerpoint</th>\n",
              "      <th>Lý Thuyết</th>\n",
              "      <th>Thực Hành</th>\n",
              "    </tr>\n",
              "  </thead>\n",
              "  <tbody>\n",
              "    <tr>\n",
              "      <th>count</th>\n",
              "      <td>594.000000</td>\n",
              "      <td>594.000000</td>\n",
              "      <td>594.000000</td>\n",
              "      <td>594.000000</td>\n",
              "      <td>594.000000</td>\n",
              "    </tr>\n",
              "    <tr>\n",
              "      <th>mean</th>\n",
              "      <td>4.805556</td>\n",
              "      <td>5.203704</td>\n",
              "      <td>5.165488</td>\n",
              "      <td>5.013468</td>\n",
              "      <td>5.036801</td>\n",
              "    </tr>\n",
              "    <tr>\n",
              "      <th>std</th>\n",
              "      <td>2.320010</td>\n",
              "      <td>3.038497</td>\n",
              "      <td>2.808840</td>\n",
              "      <td>1.695840</td>\n",
              "      <td>2.410946</td>\n",
              "    </tr>\n",
              "    <tr>\n",
              "      <th>min</th>\n",
              "      <td>0.000000</td>\n",
              "      <td>0.000000</td>\n",
              "      <td>0.000000</td>\n",
              "      <td>0.000000</td>\n",
              "      <td>0.000000</td>\n",
              "    </tr>\n",
              "    <tr>\n",
              "      <th>25%</th>\n",
              "      <td>3.000000</td>\n",
              "      <td>3.000000</td>\n",
              "      <td>3.000000</td>\n",
              "      <td>4.500000</td>\n",
              "      <td>3.400000</td>\n",
              "    </tr>\n",
              "    <tr>\n",
              "      <th>50%</th>\n",
              "      <td>5.000000</td>\n",
              "      <td>6.000000</td>\n",
              "      <td>5.250000</td>\n",
              "      <td>5.000000</td>\n",
              "      <td>5.400000</td>\n",
              "    </tr>\n",
              "    <tr>\n",
              "      <th>75%</th>\n",
              "      <td>6.000000</td>\n",
              "      <td>8.000000</td>\n",
              "      <td>7.000000</td>\n",
              "      <td>6.000000</td>\n",
              "      <td>6.800000</td>\n",
              "    </tr>\n",
              "    <tr>\n",
              "      <th>max</th>\n",
              "      <td>10.000000</td>\n",
              "      <td>10.000000</td>\n",
              "      <td>10.000000</td>\n",
              "      <td>8.500000</td>\n",
              "      <td>9.960000</td>\n",
              "    </tr>\n",
              "  </tbody>\n",
              "</table>\n",
              "</div>"
            ],
            "text/plain": [
              "         Win_Word       Excel  Powerpoint   Lý Thuyết   Thực Hành\n",
              "count  594.000000  594.000000  594.000000  594.000000  594.000000\n",
              "mean     4.805556    5.203704    5.165488    5.013468    5.036801\n",
              "std      2.320010    3.038497    2.808840    1.695840    2.410946\n",
              "min      0.000000    0.000000    0.000000    0.000000    0.000000\n",
              "25%      3.000000    3.000000    3.000000    4.500000    3.400000\n",
              "50%      5.000000    6.000000    5.250000    5.000000    5.400000\n",
              "75%      6.000000    8.000000    7.000000    6.000000    6.800000\n",
              "max     10.000000   10.000000   10.000000    8.500000    9.960000"
            ]
          },
          "metadata": {
            "tags": []
          },
          "execution_count": 82
        }
      ]
    },
    {
      "cell_type": "code",
      "metadata": {
        "colab": {
          "base_uri": "https://localhost:8080/",
          "height": 714
        },
        "id": "i6Io9UP3Z9V8",
        "outputId": "219a49d3-1dc5-4ede-8d40-f51465601723"
      },
      "source": [
        "df[dm].hist(bins=10, figsize=(15, 10), layout=(2, 3))"
      ],
      "execution_count": null,
      "outputs": [
        {
          "output_type": "execute_result",
          "data": {
            "text/plain": [
              "array([[<matplotlib.axes._subplots.AxesSubplot object at 0x7f5bbad0eeb8>,\n",
              "        <matplotlib.axes._subplots.AxesSubplot object at 0x7f5bbacb8908>,\n",
              "        <matplotlib.axes._subplots.AxesSubplot object at 0x7f5bbac79f98>],\n",
              "       [<matplotlib.axes._subplots.AxesSubplot object at 0x7f5bbac37358>,\n",
              "        <matplotlib.axes._subplots.AxesSubplot object at 0x7f5bbabe66d8>,\n",
              "        <matplotlib.axes._subplots.AxesSubplot object at 0x7f5bbab98a58>]],\n",
              "      dtype=object)"
            ]
          },
          "metadata": {
            "tags": []
          },
          "execution_count": 62
        },
        {
          "output_type": "display_data",
          "data": {
            "image/png": "[encoded data removed]",
            "text/plain": [
              "<Figure size 1080x720 with 6 Axes>"
            ]
          },
          "metadata": {
            "tags": [],
            "needs_background": "light"
          }
        }
      ]
    },
    {
      "cell_type": "markdown",
      "metadata": {
        "id": "d4Re6fedO5-S"
      },
      "source": [
        "Biểu diễn các biến điểm"
      ]
    },
    {
      "cell_type": "code",
      "metadata": {
        "colab": {
          "base_uri": "https://localhost:8080/",
          "height": 297
        },
        "id": "2iop3Zma9Krr",
        "outputId": "b42f5b25-b193-4a8d-bc78-ce22826044a7"
      },
      "source": [
        "sns.scatterplot(x=df['Lý Thuyết'], y=df['Thực Hành'])"
      ],
      "execution_count": null,
      "outputs": [
        {
          "output_type": "execute_result",
          "data": {
            "text/plain": [
              "<matplotlib.axes._subplots.AxesSubplot at 0x7f5bbb748fd0>"
            ]
          },
          "metadata": {
            "tags": []
          },
          "execution_count": 57
        },
        {
          "output_type": "display_data",
          "data": {
            "image/png": "[encoded data removed]",
            "text/plain": [
              "<Figure size 432x288 with 1 Axes>"
            ]
          },
          "metadata": {
            "tags": [],
            "needs_background": "light"
          }
        }
      ]
    },
    {
      "cell_type": "markdown",
      "metadata": {
        "id": "QXYnQCEIO-CH"
      },
      "source": [
        "Tương quan giữa điểm Lý thuyết và Thực hành"
      ]
    },
    {
      "cell_type": "code",
      "metadata": {
        "colab": {
          "base_uri": "https://localhost:8080/",
          "height": 458
        },
        "id": "64RmbNVD9Ve0",
        "outputId": "268c3226-4148-47d1-97fb-a38f13f1de6e"
      },
      "source": [
        "sns.jointplot(x=df['Lý Thuyết'], y=df['Thực Hành'])"
      ],
      "execution_count": null,
      "outputs": [
        {
          "output_type": "execute_result",
          "data": {
            "text/plain": [
              "<seaborn.axisgrid.JointGrid at 0x7f5bbc3ef198>"
            ]
          },
          "metadata": {
            "tags": []
          },
          "execution_count": 43
        },
        {
          "output_type": "display_data",
          "data": {
            "image/png": "[encoded data removed]",
            "text/plain": [
              "<Figure size 432x432 with 3 Axes>"
            ]
          },
          "metadata": {
            "tags": [],
            "needs_background": "light"
          }
        }
      ]
    },
    {
      "cell_type": "code",
      "metadata": {
        "colab": {
          "base_uri": "https://localhost:8080/",
          "height": 298
        },
        "id": "UOzqfnsTa8uq",
        "outputId": "2d80661a-dd9f-418f-e327-26cf6d8f858e"
      },
      "source": [
        "sns.boxplot(x=df['Xếp loại'],y=df['Thực Hành'])"
      ],
      "execution_count": null,
      "outputs": [
        {
          "output_type": "execute_result",
          "data": {
            "text/plain": [
              "<matplotlib.axes._subplots.AxesSubplot at 0x7f5bba487f60>"
            ]
          },
          "metadata": {
            "tags": []
          },
          "execution_count": 75
        },
        {
          "output_type": "display_data",
          "data": {
            "image/png": "[encoded data removed]",
            "text/plain": [
              "<Figure size 432x288 with 1 Axes>"
            ]
          },
          "metadata": {
            "tags": [],
            "needs_background": "light"
          }
        }
      ]
    },
    {
      "cell_type": "markdown",
      "metadata": {
        "id": "xAf7eibFPIUq"
      },
      "source": [
        "Tương quan các biến điểm với Xếp loại"
      ]
    },
    {
      "cell_type": "code",
      "metadata": {
        "colab": {
          "base_uri": "https://localhost:8080/",
          "height": 298
        },
        "id": "COn2vapO8Ehz",
        "outputId": "66da8959-fbcc-4c1a-9f18-7a4d452e9ae0"
      },
      "source": [
        "sns.boxplot(x=df['Xếp loại'],y=df['Lý Thuyết'])"
      ],
      "execution_count": null,
      "outputs": [
        {
          "output_type": "execute_result",
          "data": {
            "text/plain": [
              "<matplotlib.axes._subplots.AxesSubplot at 0x7f5bbbad0780>"
            ]
          },
          "metadata": {
            "tags": []
          },
          "execution_count": 44
        },
        {
          "output_type": "display_data",
          "data": {
            "image/png": "[encoded data removed]",
            "text/plain": [
              "<Figure size 432x288 with 1 Axes>"
            ]
          },
          "metadata": {
            "tags": [],
            "needs_background": "light"
          }
        }
      ]
    },
    {
      "cell_type": "code",
      "metadata": {
        "colab": {
          "base_uri": "https://localhost:8080/",
          "height": 298
        },
        "id": "NO_4vx_e9dZT",
        "outputId": "f1b92db9-0396-4634-fa19-a98b16469838"
      },
      "source": [
        "sns.boxplot(x=df['Xếp loại'],y=df['Win_Word'])"
      ],
      "execution_count": null,
      "outputs": [
        {
          "output_type": "execute_result",
          "data": {
            "text/plain": [
              "<matplotlib.axes._subplots.AxesSubplot at 0x7f5bba8439e8>"
            ]
          },
          "metadata": {
            "tags": []
          },
          "execution_count": 69
        },
        {
          "output_type": "display_data",
          "data": {
            "image/png": "[encoded data removed]",
            "text/plain": [
              "<Figure size 432x288 with 1 Axes>"
            ]
          },
          "metadata": {
            "tags": [],
            "needs_background": "light"
          }
        }
      ]
    },
    {
      "cell_type": "code",
      "metadata": {
        "colab": {
          "base_uri": "https://localhost:8080/",
          "height": 298
        },
        "id": "fiVbdkZUAfgH",
        "outputId": "50bf81ca-5102-4137-f3a6-2dbaa007d49a"
      },
      "source": [
        "sns.boxplot(x=df['Xếp loại'],y=df['Excel'])"
      ],
      "execution_count": null,
      "outputs": [
        {
          "output_type": "execute_result",
          "data": {
            "text/plain": [
              "<matplotlib.axes._subplots.AxesSubplot at 0x7f5bbdc99358>"
            ]
          },
          "metadata": {
            "tags": []
          },
          "execution_count": 72
        },
        {
          "output_type": "display_data",
          "data": {
            "image/png": "[encoded data removed]",
            "text/plain": [
              "<Figure size 432x288 with 1 Axes>"
            ]
          },
          "metadata": {
            "tags": [],
            "needs_background": "light"
          }
        }
      ]
    },
    {
      "cell_type": "code",
      "metadata": {
        "colab": {
          "base_uri": "https://localhost:8080/",
          "height": 298
        },
        "id": "lK3yeeyzBPUO",
        "outputId": "8e77b1f8-62b9-43ae-cfa8-caec7ecb739e"
      },
      "source": [
        "sns.boxplot(x=df['Xếp loại'],y=df['Powerpoint'])"
      ],
      "execution_count": null,
      "outputs": [
        {
          "output_type": "execute_result",
          "data": {
            "text/plain": [
              "<matplotlib.axes._subplots.AxesSubplot at 0x7f5bbb490eb8>"
            ]
          },
          "metadata": {
            "tags": []
          },
          "execution_count": 71
        },
        {
          "output_type": "display_data",
          "data": {
            "image/png": "[encoded data removed]",
            "text/plain": [
              "<Figure size 432x288 with 1 Axes>"
            ]
          },
          "metadata": {
            "tags": [],
            "needs_background": "light"
          }
        }
      ]
    },
    {
      "cell_type": "code",
      "metadata": {
        "id": "-HsT72ajBPpM"
      },
      "source": [
        ""
      ],
      "execution_count": null,
      "outputs": []
    }
  ]
}